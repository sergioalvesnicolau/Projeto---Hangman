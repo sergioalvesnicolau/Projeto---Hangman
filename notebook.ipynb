{
 "cells": [
  {
   "cell_type": "code",
   "execution_count": 13,
   "id": "3466cf52",
   "metadata": {
    "ExecuteTime": {
     "end_time": "2023-08-09T18:23:02.969153Z",
     "start_time": "2023-08-09T18:23:02.954129Z"
    }
   },
   "outputs": [],
   "source": [
    "import time\n",
    "import random"
   ]
  },
  {
   "cell_type": "code",
   "execution_count": 34,
   "id": "38d71c7c",
   "metadata": {
    "ExecuteTime": {
     "end_time": "2023-08-09T15:04:47.355482Z",
     "start_time": "2023-08-09T15:04:32.232649Z"
    }
   },
   "outputs": [
    {
     "name": "stdout",
     "output_type": "stream",
     "text": [
      "Bem-vindo ao Hangman!\n",
      "\n",
      "Primeiramente, diga-nos seu nome, por favor: 23\n",
      "\n",
      "Seu nome deve ser  uma palavra!\n",
      "Seu nome, por favor: sergio\n",
      "\n",
      "Olá, Sergio.\n",
      "Espero que não tenha mentido ou feito alguma piadinha...\n"
     ]
    }
   ],
   "source": [
    "name = input('Bem-vindo ao Hangman!\\n\\nPrimeiramente, diga-nos seu nome, por favor: ').capitalize()\n",
    "if name.isnumeric():\n",
    "    time.sleep(0.5)\n",
    "    print('\\nSeu nome deve ser ma palavra!')\n",
    "    time.sleep(0.5)\n",
    "    name = input('Seu nome, por favor: ').capitalize()\n",
    "time.sleep(0.75)\n",
    "print(f'\\nOlá, {name}.\\nEspero que não tenha mentido ou feito alguma piadinha...')"
   ]
  },
  {
   "cell_type": "code",
   "execution_count": null,
   "id": "fc3ca8ea",
   "metadata": {
    "ExecuteTime": {
     "end_time": "2023-08-09T18:50:03.195139Z",
     "start_time": "2023-08-09T18:50:03.194126Z"
    }
   },
   "outputs": [],
   "source": [
    "def player():\n",
    "    name = input('\\nDiga-nos seu nome, por favor: ').capitalize()\n",
    "    if name.isalpha() == False:\n",
    "        time.sleep(0.5)\n",
    "        print('\\nSeu nome deve ser uma palavra!')\n",
    "        time.sleep(0.5)\n",
    "        return player()\n",
    "    time.sleep(2)\n",
    "    print(f'\\nOlá, {name}.\\nEsperamos que não tenha mentido ou feito alguma piadinha...')"
   ]
  },
  {
   "cell_type": "code",
   "execution_count": 35,
   "id": "cdd47e35",
   "metadata": {
    "ExecuteTime": {
     "end_time": "2023-08-09T18:54:45.344392Z",
     "start_time": "2023-08-09T18:54:32.631835Z"
    }
   },
   "outputs": [
    {
     "name": "stdout",
     "output_type": "stream",
     "text": [
      "Bem-vindo ao Hangman!\n",
      "\n",
      "Diga-nos seu nome, por favor: sergio\n",
      "\n",
      "Olá, Sergio.\n",
      "Esperamos que não tenha mentido ou feito alguma piadinha...\n",
      "Vamos começar então! Assim se parece sua palavra:\n",
      "_ _ _ _ _ _ _ _ _ _ _ \n",
      "Diga uma letra: a\n"
     ]
    },
    {
     "data": {
      "text/plain": [
       "True"
      ]
     },
     "execution_count": 35,
     "metadata": {},
     "output_type": "execute_result"
    }
   ],
   "source": [
    "print('Bem-vindo ao Hangman!')\n",
    "time.sleep(1)\n",
    "player()\n",
    "word_selection()\n",
    "time.sleep(1)\n",
    "print('Vamos começar então! Assim se parece sua palavra:')\n",
    "word_print(word)\n",
    "time.sleep(1)\n",
    "remaining_attempts = 10\n",
    "get_hangman_stage(remaining_attempts)\n",
    "guess_letter()"
   ]
  },
  {
   "cell_type": "code",
   "execution_count": 45,
   "id": "f21f20c4",
   "metadata": {
    "ExecuteTime": {
     "end_time": "2023-08-09T19:51:14.095162Z",
     "start_time": "2023-08-09T19:51:14.084264Z"
    }
   },
   "outputs": [],
   "source": [
    "def word_selection():\n",
    "    word_list = []\n",
    "    file_read = open('data/ime.usp.br_~pf_dicios_br-sem-acentos.txt')\n",
    "    \n",
    "    for line in file_read.readlines():\n",
    "        if len(line) > 4:\n",
    "            word_list.append(line.replace('\\n', '').lower())\n",
    "    \n",
    "    word = random.choice(word_list)"
   ]
  },
  {
   "cell_type": "code",
   "execution_count": null,
   "id": "479e9bca",
   "metadata": {
    "ExecuteTime": {
     "end_time": "2023-08-09T19:54:27.853025Z",
     "start_time": "2023-08-09T19:54:27.853025Z"
    }
   },
   "outputs": [],
   "source": [
    "word = word_selection()\n",
    "word"
   ]
  },
  {
   "cell_type": "code",
   "execution_count": 30,
   "id": "4833adeb",
   "metadata": {
    "ExecuteTime": {
     "end_time": "2023-08-09T18:51:56.088403Z",
     "start_time": "2023-08-09T18:51:56.069399Z"
    }
   },
   "outputs": [],
   "source": [
    "def get_hangman_stage(remaining_attempts):\n",
    "    max_attempts = 10\n",
    "    stages = [\"\"\"\n",
    "        ------\n",
    "        |    |\n",
    "        |\n",
    "        |\n",
    "        |\n",
    "        |\n",
    "        |\n",
    "    ------------\n",
    "    \"\"\", \"\"\"\n",
    "        ------\n",
    "        |    |\n",
    "        |    O\n",
    "        |\n",
    "        |\n",
    "        |\n",
    "        |\n",
    "    ------------\n",
    "    \"\"\", \"\"\"\n",
    "        ------\n",
    "        |    |\n",
    "        |    O\n",
    "        |    |\n",
    "        |    |\n",
    "        |\n",
    "        |\n",
    "    ------------\n",
    "    \"\"\", \"\"\"\n",
    "        ------\n",
    "        |    |\n",
    "        |    O\n",
    "        |    |\n",
    "        |    |\n",
    "        |   /\n",
    "        |\n",
    "    ------------\n",
    "    \"\"\", \"\"\"\n",
    "        ------\n",
    "        |    |\n",
    "        |    O\n",
    "        |    |\n",
    "        |    |\n",
    "        |   / \\\n",
    "        |\n",
    "    ------------\n",
    "    \"\"\", \"\"\"\n",
    "        ------\n",
    "        |    |\n",
    "        |    O\n",
    "        |  --|\n",
    "        |    |\n",
    "        |   / \\\n",
    "        |\n",
    "    ------------\n",
    "    \"\"\", \"\"\"\n",
    "        ------\n",
    "        |    |\n",
    "        |    O\n",
    "        |  --|--\n",
    "        |    |\n",
    "        |   / \\\n",
    "        |\n",
    "    ------------\n",
    "    \"\"\", \"\"\"\n",
    "        ------\n",
    "        |    |\n",
    "        |    O\n",
    "        | +--|--\n",
    "        |    |\n",
    "        |   / \\\n",
    "        |\n",
    "    ------------\n",
    "    \"\"\", \"\"\"\n",
    "        ------\n",
    "        |    |\n",
    "        |    O\n",
    "        | +--|--+\n",
    "        |    |\n",
    "        |   / \\\n",
    "        |\n",
    "    ------------\n",
    "    \"\"\", \"\"\"\n",
    "        ------\n",
    "        |    |\n",
    "        |    O\n",
    "        | +--|--+\n",
    "        |    |\n",
    "        |  _/ \\\n",
    "        |\n",
    "    ------------\n",
    "    \"\"\", \"\"\"\n",
    "        ------\n",
    "        |    |\n",
    "        |    O\n",
    "        | +--|--+\n",
    "        |    |\n",
    "        |  _/ \\_\n",
    "        |\n",
    "    ------------\n",
    "    \"\"\"]\n",
    "    return stages[max_attempts - remaining_attempts]"
   ]
  },
  {
   "cell_type": "code",
   "execution_count": 33,
   "id": "73892aab",
   "metadata": {
    "ExecuteTime": {
     "end_time": "2023-08-09T18:54:24.425915Z",
     "start_time": "2023-08-09T18:54:24.404926Z"
    }
   },
   "outputs": [],
   "source": [
    "def word_print(word):\n",
    "    print('_ '*len(word))"
   ]
  },
  {
   "cell_type": "code",
   "execution_count": 34,
   "id": "1cb1506e",
   "metadata": {
    "ExecuteTime": {
     "end_time": "2023-08-09T18:54:27.021899Z",
     "start_time": "2023-08-09T18:54:26.998700Z"
    }
   },
   "outputs": [],
   "source": [
    "def guess_letter():\n",
    "    guess = input('Diga uma letra: ')\n",
    "    if len(guess) > 1 or guess.isalpha() == False:\n",
    "        print('Somente é aceito uma letra, tente de novo:\\n')\n",
    "        return guess_letter()\n",
    "    else:\n",
    "        if guess in word:\n",
    "            return True\n",
    "        else:\n",
    "            return False"
   ]
  },
  {
   "cell_type": "code",
   "execution_count": 25,
   "id": "671c98ba",
   "metadata": {
    "ExecuteTime": {
     "end_time": "2023-08-09T18:45:44.909625Z",
     "start_time": "2023-08-09T18:45:38.856170Z"
    }
   },
   "outputs": [
    {
     "name": "stdout",
     "output_type": "stream",
     "text": [
      "Diga uma letra: 23\n",
      "Somente é aceito uma letra, tente de novo:\n",
      "\n",
      "Diga uma letra: as\n",
      "Somente é aceito uma letra, tente de novo:\n",
      "\n",
      "Diga uma letra: a\n"
     ]
    },
    {
     "data": {
      "text/plain": [
       "'a'"
      ]
     },
     "execution_count": 25,
     "metadata": {},
     "output_type": "execute_result"
    }
   ],
   "source": [
    "guess_letter()"
   ]
  },
  {
   "cell_type": "code",
   "execution_count": null,
   "id": "500830c5",
   "metadata": {
    "ExecuteTime": {
     "end_time": "2023-08-09T15:21:29.739739Z",
     "start_time": "2023-08-09T15:21:29.739739Z"
    }
   },
   "outputs": [],
   "source": [
    "print(f\"Bom, vamos começar então. Assim parece sua palavra: {'_ '*len(word)}\")\n",
    "guess = input('Diga uma letra: ')\n",
    "\n",
    "turns = 10\n",
    "fails = 0"
   ]
  },
  {
   "cell_type": "code",
   "execution_count": 59,
   "id": "eb0f894c",
   "metadata": {
    "ExecuteTime": {
     "end_time": "2023-08-09T15:32:27.603267Z",
     "start_time": "2023-08-09T15:32:23.759301Z"
    }
   },
   "outputs": [
    {
     "name": "stdout",
     "output_type": "stream",
     "text": [
      "Bom, vamos começar então. Assim parece sua palavra: _ _ _ _ _ _ _ _ _ \n",
      "Diga uma letra: a\n",
      "_ \n",
      "_ \n",
      "_ \n",
      "a \n",
      "_ \n",
      "_ \n",
      "a \n",
      "_ \n",
      "_ \n"
     ]
    }
   ],
   "source": [
    "print(f\"Bom, vamos começar então. Assim parece sua palavra: {'_ '*len(word)}\")\n",
    "guess = input('Diga uma letra: ')\n",
    "\n",
    "turns = 10\n",
    "\n",
    "while turns > 0:\n",
    "    turns -= 1\n",
    "    for guess in word:\n",
    "        if char != guess:\n",
    "            print(f'_ ')\n",
    "        if char == guess:\n",
    "            print(f'{char} ')"
   ]
  },
  {
   "cell_type": "code",
   "execution_count": 12,
   "id": "9cf4e1d4",
   "metadata": {
    "ExecuteTime": {
     "end_time": "2023-08-09T18:22:59.692687Z",
     "start_time": "2023-08-09T18:14:29.138847Z"
    }
   },
   "outputs": [
    {
     "name": "stdout",
     "output_type": "stream",
     "text": [
      "What is your name? sergio\n",
      "Hello, sergio Time to play hangman!\n",
      "Start guessing...\n",
      "___________guess a character:a\n",
      "_____a_a___guess a character:b\n",
      "Wrong\n",
      "You have 9 more guesses\n",
      "_____a_a___guess a character:r\n",
      "__r__ara___guess a character:i\n",
      "__r_iara___guess a character:p\n",
      "p_r_iara___guess a character:o\n",
      "por_iara_o_guess a character:f\n",
      "porfiara_o_guess a character:d\n",
      "Wrong\n",
      "You have 8 more guesses\n",
      "porfiara_o_guess a character:r\n",
      "porfiara_o_guess a character:l\n",
      "Wrong\n",
      "You have 7 more guesses\n",
      "porfiara_o_guess a character:u\n",
      "Wrong\n",
      "You have 6 more guesses\n",
      "porfiara_o_guess a character:y\n",
      "Wrong\n",
      "You have 5 more guesses\n",
      "porfiara_o_guess a character:h\n",
      "Wrong\n",
      "You have 4 more guesses\n",
      "porfiara_o_guess a character:n\n",
      "Wrong\n",
      "You have 3 more guesses\n",
      "porfiara_o_"
     ]
    },
    {
     "ename": "KeyboardInterrupt",
     "evalue": "Interrupted by user",
     "output_type": "error",
     "traceback": [
      "\u001b[1;31m---------------------------------------------------------------------------\u001b[0m",
      "\u001b[1;31mKeyboardInterrupt\u001b[0m                         Traceback (most recent call last)",
      "\u001b[1;32m~\\AppData\\Local\\Temp\\ipykernel_8828\\101177372.py\u001b[0m in \u001b[0;36m<module>\u001b[1;34m\u001b[0m\n\u001b[0;32m     52\u001b[0m         \u001b[1;32mbreak\u001b[0m\u001b[1;33m\u001b[0m\u001b[1;33m\u001b[0m\u001b[0m\n\u001b[0;32m     53\u001b[0m     \u001b[1;31m# ask the user go guess a character\u001b[0m\u001b[1;33m\u001b[0m\u001b[1;33m\u001b[0m\u001b[0m\n\u001b[1;32m---> 54\u001b[1;33m     \u001b[0mguess\u001b[0m \u001b[1;33m=\u001b[0m \u001b[0minput\u001b[0m\u001b[1;33m(\u001b[0m\u001b[1;34m\"guess a character:\"\u001b[0m\u001b[1;33m)\u001b[0m\u001b[1;33m\u001b[0m\u001b[1;33m\u001b[0m\u001b[0m\n\u001b[0m\u001b[0;32m     55\u001b[0m \u001b[1;33m\u001b[0m\u001b[0m\n\u001b[0;32m     56\u001b[0m     \u001b[1;31m# set the players guess to guesses\u001b[0m\u001b[1;33m\u001b[0m\u001b[1;33m\u001b[0m\u001b[0m\n",
      "\u001b[1;32m~\\anaconda3\\lib\\site-packages\\ipykernel\\kernelbase.py\u001b[0m in \u001b[0;36mraw_input\u001b[1;34m(self, prompt)\u001b[0m\n\u001b[0;32m   1175\u001b[0m                 \u001b[1;34m\"raw_input was called, but this frontend does not support input requests.\"\u001b[0m\u001b[1;33m\u001b[0m\u001b[1;33m\u001b[0m\u001b[0m\n\u001b[0;32m   1176\u001b[0m             )\n\u001b[1;32m-> 1177\u001b[1;33m         return self._input_request(\n\u001b[0m\u001b[0;32m   1178\u001b[0m             \u001b[0mstr\u001b[0m\u001b[1;33m(\u001b[0m\u001b[0mprompt\u001b[0m\u001b[1;33m)\u001b[0m\u001b[1;33m,\u001b[0m\u001b[1;33m\u001b[0m\u001b[1;33m\u001b[0m\u001b[0m\n\u001b[0;32m   1179\u001b[0m             \u001b[0mself\u001b[0m\u001b[1;33m.\u001b[0m\u001b[0m_parent_ident\u001b[0m\u001b[1;33m[\u001b[0m\u001b[1;34m\"shell\"\u001b[0m\u001b[1;33m]\u001b[0m\u001b[1;33m,\u001b[0m\u001b[1;33m\u001b[0m\u001b[1;33m\u001b[0m\u001b[0m\n",
      "\u001b[1;32m~\\anaconda3\\lib\\site-packages\\ipykernel\\kernelbase.py\u001b[0m in \u001b[0;36m_input_request\u001b[1;34m(self, prompt, ident, parent, password)\u001b[0m\n\u001b[0;32m   1217\u001b[0m             \u001b[1;32mexcept\u001b[0m \u001b[0mKeyboardInterrupt\u001b[0m\u001b[1;33m:\u001b[0m\u001b[1;33m\u001b[0m\u001b[1;33m\u001b[0m\u001b[0m\n\u001b[0;32m   1218\u001b[0m                 \u001b[1;31m# re-raise KeyboardInterrupt, to truncate traceback\u001b[0m\u001b[1;33m\u001b[0m\u001b[1;33m\u001b[0m\u001b[0m\n\u001b[1;32m-> 1219\u001b[1;33m                 \u001b[1;32mraise\u001b[0m \u001b[0mKeyboardInterrupt\u001b[0m\u001b[1;33m(\u001b[0m\u001b[1;34m\"Interrupted by user\"\u001b[0m\u001b[1;33m)\u001b[0m \u001b[1;32mfrom\u001b[0m \u001b[1;32mNone\u001b[0m\u001b[1;33m\u001b[0m\u001b[1;33m\u001b[0m\u001b[0m\n\u001b[0m\u001b[0;32m   1220\u001b[0m             \u001b[1;32mexcept\u001b[0m \u001b[0mException\u001b[0m\u001b[1;33m:\u001b[0m\u001b[1;33m\u001b[0m\u001b[1;33m\u001b[0m\u001b[0m\n\u001b[0;32m   1221\u001b[0m                 \u001b[0mself\u001b[0m\u001b[1;33m.\u001b[0m\u001b[0mlog\u001b[0m\u001b[1;33m.\u001b[0m\u001b[0mwarning\u001b[0m\u001b[1;33m(\u001b[0m\u001b[1;34m\"Invalid Message:\"\u001b[0m\u001b[1;33m,\u001b[0m \u001b[0mexc_info\u001b[0m\u001b[1;33m=\u001b[0m\u001b[1;32mTrue\u001b[0m\u001b[1;33m)\u001b[0m\u001b[1;33m\u001b[0m\u001b[1;33m\u001b[0m\u001b[0m\n",
      "\u001b[1;31mKeyboardInterrupt\u001b[0m: Interrupted by user"
     ]
    }
   ],
   "source": [
    "#welcoming the user\n",
    "name = input(\"What is your name? \")\n",
    "\n",
    "print (\"Hello, \" + name, \"Time to play hangman!\")\n",
    "\n",
    "#wait for 1 second\n",
    "time.sleep(1)\n",
    "\n",
    "print (\"Start guessing...\")\n",
    "time.sleep(0.5)\n",
    "\n",
    "#here we set the secret. You can select any word to play with. \n",
    "word = random.choice(word_list)\n",
    "\n",
    "#creates an variable with an empty value\n",
    "guesses = ''\n",
    "\n",
    "#determine the number of turns\n",
    "turns = 10\n",
    "\n",
    "# Create a while loop\n",
    "\n",
    "#check if the turns are more than zero\n",
    "while turns > 0:         \n",
    "\n",
    "    # make a counter that starts with zero\n",
    "    failed = 0             \n",
    "\n",
    "    # for every character in secret_word    \n",
    "    for char in word:      \n",
    "\n",
    "    # see if the character is in the players guess\n",
    "        if char in guesses:    \n",
    "    \n",
    "        # print then out the character\n",
    "            print (char,end=\"\"),    \n",
    "\n",
    "        else:\n",
    "    \n",
    "        # if not found, print a dash\n",
    "            print (\"_\",end=\"\"),     \n",
    "       \n",
    "        # and increase the failed counter with one\n",
    "            failed += 1    \n",
    "\n",
    "    # if failed is equal to zero\n",
    "\n",
    "    # print You Won\n",
    "    if failed == 0:        \n",
    "        print (\"You won\")\n",
    "    # exit the script\n",
    "        break            \n",
    "    # ask the user go guess a character\n",
    "    guess = input(\"guess a character:\") \n",
    "\n",
    "    # set the players guess to guesses\n",
    "    guesses += guess                    \n",
    "\n",
    "    # if the guess is not found in the secret word\n",
    "    if guess not in word:  \n",
    " \n",
    "     # turns counter decreases with 1 (now 9)\n",
    "        turns -= 1        \n",
    " \n",
    "    # print wrong\n",
    "        print (\"Wrong\")  \n",
    " \n",
    "    # how many turns are left\n",
    "        print (\"You have\", + turns, 'more guesses' )\n",
    " \n",
    "    # if the turns are equal to zero\n",
    "        if turns == 0:           \n",
    "    \n",
    "        # print \"You Lose\"\n",
    "            print (\"You Lose\"  )"
   ]
  }
 ],
 "metadata": {
  "kernelspec": {
   "display_name": "Python 3 (ipykernel)",
   "language": "python",
   "name": "python3"
  },
  "language_info": {
   "codemirror_mode": {
    "name": "ipython",
    "version": 3
   },
   "file_extension": ".py",
   "mimetype": "text/x-python",
   "name": "python",
   "nbconvert_exporter": "python",
   "pygments_lexer": "ipython3",
   "version": "3.9.13"
  },
  "toc": {
   "base_numbering": 1,
   "nav_menu": {},
   "number_sections": true,
   "sideBar": true,
   "skip_h1_title": false,
   "title_cell": "Table of Contents",
   "title_sidebar": "Contents",
   "toc_cell": false,
   "toc_position": {},
   "toc_section_display": true,
   "toc_window_display": false
  },
  "varInspector": {
   "cols": {
    "lenName": 16,
    "lenType": 16,
    "lenVar": 40
   },
   "kernels_config": {
    "python": {
     "delete_cmd_postfix": "",
     "delete_cmd_prefix": "del ",
     "library": "var_list.py",
     "varRefreshCmd": "print(var_dic_list())"
    },
    "r": {
     "delete_cmd_postfix": ") ",
     "delete_cmd_prefix": "rm(",
     "library": "var_list.r",
     "varRefreshCmd": "cat(var_dic_list()) "
    }
   },
   "types_to_exclude": [
    "module",
    "function",
    "builtin_function_or_method",
    "instance",
    "_Feature"
   ],
   "window_display": false
  }
 },
 "nbformat": 4,
 "nbformat_minor": 5
}
